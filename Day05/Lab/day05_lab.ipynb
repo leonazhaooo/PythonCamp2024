{
 "cells": [
  {
   "cell_type": "markdown",
   "metadata": {},
   "source": [
    "# Lab: APIs"
   ]
  },
  {
   "cell_type": "markdown",
   "metadata": {},
   "source": [
    "##### Instructions: \n",
    "\n",
    "Write your own Python script to answer the following questions: \n",
    "1. Which of these embassies is closest to the White House in meters? What is the address? \n",
    "2. If I wanted to hold a morning meeting there, which cafe would you suggest (best rating and closest)?\n",
    "3. If I wanted to hold an upscale evening meeting there, which fancy bar would you suggest? \n",
    "\n",
    "Hint: \n",
    "- You will need to enable the `Google Places API`.\n",
    "- You may find this page useful to learn about different findinging nearby places https://www.geeksforgeeks.org/python-fetch-nearest-hospital-locations-using-googlemaps-api/"
   ]
  },
  {
   "cell_type": "code",
   "execution_count": 11,
   "metadata": {},
   "outputs": [
    {
     "name": "stdout",
     "output_type": "stream",
     "text": [
      "1. The closest embassy to the White House is located at: 1601 Massachusetts Ave NW, Washington, DC 20036, USA\n",
      "2. For a morning meeting, I suggest the following cafe:\n",
      "ching ching CHA located at 1314 21st Street Northwest, Washington\n",
      "3. For an upscale evening meeting, I suggest the following fancy bar:\n",
      "The Jefferson, Washington, DC located at 1200 16th Street Northwest, Washington\n"
     ]
    }
   ],
   "source": [
    "import importlib\n",
    "import os\n",
    "import googlemaps\n",
    "\n",
    "# os.chdir('you/key/dir')\n",
    "imported_items = importlib.import_module('start_google')\n",
    "gmaps = imported_items.client\n",
    "\n",
    "whitehouse = '1600 Pennsylvania Avenue, Washington, DC'\n",
    "\n",
    "embassies = [[38.917228,-77.0522365], \n",
    "\t[38.9076502, -77.0370427], \n",
    "\t[38.916944, -77.048739] ]\n",
    "\n",
    "# Calculate distances between White House and embassies\n",
    "distances = {}\n",
    "for index, embassy in enumerate(embassies):\n",
    "    embassy_location = {'lat': embassy[0], 'lng': embassy[1]}\n",
    "    distance_matrix = gmaps.distance_matrix(whitehouse, embassy_location, mode='walking')\n",
    "    distance_in_meters = distance_matrix['rows'][0]['elements'][0]['distance']['value']\n",
    "    distances[index] = distance_in_meters\n",
    "\n",
    "# Find the closest embassy to the White House\n",
    "closest_embassy_index = min(distances, key=distances.get)\n",
    "closest_embassy = embassies[closest_embassy_index]\n",
    "\n",
    "# Find the address of the closest embassy\n",
    "closest_embassy_location = gmaps.reverse_geocode((closest_embassy[0], closest_embassy[1]))\n",
    "closest_embassy_address = closest_embassy_location[0]['formatted_address']\n",
    "\n",
    "# Find nearby cafes and bars\n",
    "cafes = gmaps.places_nearby(location=closest_embassy, radius=1000, type='cafe', open_now=True)\n",
    "best_rated_cafe = max(cafes['results'], key=lambda x: x.get('rating', 0))\n",
    "\n",
    "bars = gmaps.places_nearby(location=closest_embassy, radius=1000, type='bar', open_now=True)\n",
    "fancy_bar = max(bars['results'], key=lambda x: x.get('rating', 0))\n",
    "\n",
    "print(\"1. The closest embassy to the White House is located at:\", closest_embassy_address)\n",
    "print(\"2. For a morning meeting, I suggest the following cafe:\")\n",
    "print(best_rated_cafe['name'], \"located at\", best_rated_cafe['vicinity'])\n",
    "print(\"3. For an upscale evening meeting, I suggest the following fancy bar:\")\n",
    "print(fancy_bar['name'], \"located at\", fancy_bar['vicinity'])"
   ]
  },
  {
   "cell_type": "code",
   "execution_count": 12,
   "metadata": {},
   "outputs": [
    {
     "data": {
      "text/plain": [
       "[38.9076502, -77.0370427]"
      ]
     },
     "execution_count": 12,
     "metadata": {},
     "output_type": "execute_result"
    }
   ],
   "source": [
    "closest_embassy"
   ]
  }
 ],
 "metadata": {
  "kernelspec": {
   "display_name": "Python 3 (ipykernel)",
   "language": "python",
   "name": "python3"
  },
  "language_info": {
   "codemirror_mode": {
    "name": "ipython",
    "version": 3
   },
   "file_extension": ".py",
   "mimetype": "text/x-python",
   "name": "python",
   "nbconvert_exporter": "python",
   "pygments_lexer": "ipython3",
   "version": "3.11.7"
  }
 },
 "nbformat": 4,
 "nbformat_minor": 4
}
