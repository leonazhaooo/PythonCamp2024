{
 "cells": [
  {
   "cell_type": "markdown",
   "metadata": {},
   "source": [
    "#  Exercise: Namespace, Classes, and OOP"
   ]
  },
  {
   "cell_type": "markdown",
   "metadata": {},
   "source": [
    "##### Instructions"
   ]
  },
  {
   "cell_type": "markdown",
   "metadata": {},
   "source": [
    "\n",
    "* Create a class Senator() and a class Bill()\n",
    "* Complete the code below with your solutions. "
   ]
  },
  {
   "cell_type": "code",
   "execution_count": 4,
   "metadata": {},
   "outputs": [],
   "source": [
    "class Senator():\n",
    "    # initializer / constructor\n",
    "    def __init__(self, name):\n",
    "        self.name = name\n",
    "        self.bills_voted_on = [] ## list of Bill objects\n",
    "\n",
    "    def __str__(self): # Print method  \n",
    "        # print the name of the senator\n",
    "        f\"Senator:{self.name}\"\n",
    "\n",
    "    def vote(self, bill, choice):\n",
    "        # choice is a string of 'yes', 'no' or 'abstain'.\n",
    "        # the bill object would be of Bill class, which we will create below \n",
    "        # 1. update the bill object: add the senator's name to the list of yes/no/abstain (see Bill() class)\n",
    "        # 2. update the senator object: add this bill to the bills_voted_on\n",
    "        # 3. print an informative message announcing the vote \n",
    "        if choice not in ['yes', 'no', 'abstain']:\n",
    "            print(\"Invalid vote choice. Please vote 'yes', 'no', or 'abstain'.\")\n",
    "            return\n",
    "\n",
    "        bill.votes[choice].append(self.name)\n",
    "        self.bills_voted_on.append(bill)\n",
    "\n",
    "        vote_message = f\"{self.name} voted '{choice}' on '{bill.title}'.\"\n",
    "        print(vote_message)\n",
    "\n",
    "class Bill():\n",
    "    # initializer / constructor\n",
    "    def __init__(self, title):\n",
    "        self.title = title\n",
    "        self.votes = {\"yes\" : [], \"no\" : [], \"abstain\" : []}\n",
    "        self.passed = None\n",
    "\n",
    "    def __str__(self): # Print method  \n",
    "        # print the title of the bill\n",
    "        return f\"Bill: {self.title}\"\n",
    "\n",
    "    def result(self):\n",
    "        # 1. Check if the bill is passed using simply majority rule (i.e., more yes than no)\n",
    "        # 2. Update and return the passed variable indicate True/False if the bill passed\n",
    "        yes_count = len(self.votes[\"yes\"])\n",
    "        no_count = len(self.votes[\"no\"])\n",
    "\n",
    "        if yes_count > no_count:\n",
    "            self.passed = True\n",
    "        else:\n",
    "            self.passed = False\n",
    "\n",
    "        return self.passed"
   ]
  },
  {
   "cell_type": "markdown",
   "metadata": {},
   "source": [
    "* The following code should run if you've done the above correctly"
   ]
  },
  {
   "cell_type": "code",
   "execution_count": 9,
   "metadata": {},
   "outputs": [
    {
     "name": "stdout",
     "output_type": "stream",
     "text": [
      "jack\n",
      "jane\n",
      "Bill: Environmental Protection\n",
      "Jane voted 'yes' on 'Environmental Protection'.\n",
      "Jack voted 'no' on 'Environmental Protection'.\n",
      "{'yes': ['Jane'], 'no': ['Jack'], 'abstain': []}\n",
      "False\n",
      "False\n"
     ]
    }
   ],
   "source": [
    "jane = Senator(\"Jane\")\n",
    "jack = Senator(\"Jack\")\n",
    "print(\"jack\")\n",
    "print(\"jane\")\n",
    "environment = Bill(\"Environmental Protection\")\n",
    "print(environment)\n",
    "jane.vote(environment, \"yes\")\n",
    "jack.vote(environment, \"no\")\n",
    "environment.result()\n",
    "print(environment.votes)\n",
    "print(environment.passed)\n",
    "print(jack.bills_voted_on[0].passed)"
   ]
  },
  {
   "cell_type": "markdown",
   "metadata": {},
   "source": [
    "* Create another Senator with your name, and make the bill pass. "
   ]
  },
  {
   "cell_type": "code",
   "execution_count": 11,
   "metadata": {},
   "outputs": [],
   "source": [
    "lz = Senator(\"LZ\")"
   ]
  },
  {
   "cell_type": "code",
   "execution_count": 12,
   "metadata": {},
   "outputs": [
    {
     "name": "stdout",
     "output_type": "stream",
     "text": [
      "LZ voted 'yes' on 'Environmental Protection'.\n"
     ]
    }
   ],
   "source": [
    "lz.vote(environment, \"yes\")"
   ]
  },
  {
   "cell_type": "code",
   "execution_count": 13,
   "metadata": {},
   "outputs": [
    {
     "data": {
      "text/plain": [
       "True"
      ]
     },
     "execution_count": 13,
     "metadata": {},
     "output_type": "execute_result"
    }
   ],
   "source": [
    "environment.result()"
   ]
  }
 ],
 "metadata": {
  "kernelspec": {
   "display_name": "Python 3 (ipykernel)",
   "language": "python",
   "name": "python3"
  },
  "language_info": {
   "codemirror_mode": {
    "name": "ipython",
    "version": 3
   },
   "file_extension": ".py",
   "mimetype": "text/x-python",
   "name": "python",
   "nbconvert_exporter": "python",
   "pygments_lexer": "ipython3",
   "version": "3.11.7"
  }
 },
 "nbformat": 4,
 "nbformat_minor": 4
}
