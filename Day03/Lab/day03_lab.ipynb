{
 "cells": [
  {
   "cell_type": "markdown",
   "metadata": {},
   "source": [
    "# Lab: Error Handling"
   ]
  },
  {
   "cell_type": "markdown",
   "metadata": {},
   "source": [
    "1. Complete the function to make all characters capitalized. \n",
    "    - check out the `.upper()` function\n",
    "    - handle the exception when intergers are given instead of strings"
   ]
  },
  {
   "cell_type": "code",
   "execution_count": 5,
   "metadata": {},
   "outputs": [
    {
     "data": {
      "text/plain": [
       "'APPLE'"
      ]
     },
     "execution_count": 5,
     "metadata": {},
     "output_type": "execute_result"
    }
   ],
   "source": [
    "def shout(txt):\n",
    "    if not isinstance(txt, str):\n",
    "        return TypeError(\"Input is not a string\")\n",
    "    \n",
    "    result = txt.upper()\n",
    "    return result\n",
    "\n",
    "shout(\"apple\")"
   ]
  },
  {
   "cell_type": "markdown",
   "metadata": {},
   "source": [
    "2. Reverse all characters in a string\n",
    "    - handle the exception when integers are given \n",
    "    - use a different method to handle this from 1."
   ]
  },
  {
   "cell_type": "code",
   "execution_count": 11,
   "metadata": {},
   "outputs": [
    {
     "data": {
      "text/plain": [
       "'elppa'"
      ]
     },
     "execution_count": 11,
     "metadata": {},
     "output_type": "execute_result"
    }
   ],
   "source": [
    "def reverse(txt):\n",
    "    try:\n",
    "        result = txt[::-1]\n",
    "        return result\n",
    "    except TypeError:\n",
    "        return \"Input is not a string\"\n",
    "\n",
    "reverse(\"apple\")"
   ]
  },
  {
   "cell_type": "markdown",
   "metadata": {},
   "source": [
    "3. Reverse the word ordering in a string\n",
    "    - assume words are separated by space\n",
    "    - think of one error that could occur and handle it accordingly"
   ]
  },
  {
   "cell_type": "code",
   "execution_count": 18,
   "metadata": {},
   "outputs": [],
   "source": [
    "def reversewords(txt):\n",
    "    try:\n",
    "        result = ' '.join(reversed(txt.split()))\n",
    "        return result\n",
    "    except TypeError:\n",
    "        return \"Input is not a string\""
   ]
  },
  {
   "cell_type": "code",
   "execution_count": 19,
   "metadata": {},
   "outputs": [
    {
     "data": {
      "text/plain": [
       "'line this Reverse'"
      ]
     },
     "execution_count": 19,
     "metadata": {},
     "output_type": "execute_result"
    }
   ],
   "source": [
    "reversewords(\"Reverse this line\")"
   ]
  },
  {
   "cell_type": "markdown",
   "metadata": {},
   "source": [
    "4. Reverse letters in each word in the string\n",
    "    - The word ordering is preserved\n",
    "    - Only the letters are reversed "
   ]
  },
  {
   "cell_type": "code",
   "execution_count": 20,
   "metadata": {},
   "outputs": [
    {
     "data": {
      "text/plain": [
       "'esreveR siht enil'"
      ]
     },
     "execution_count": 20,
     "metadata": {},
     "output_type": "execute_result"
    }
   ],
   "source": [
    "def reversewordletters(txt):\n",
    "    if not isinstance(txt, str):\n",
    "        return \"Input is not a string\"\n",
    "    \n",
    "    words = txt.split()\n",
    "    r_words = []\n",
    "    for word in words:\n",
    "        r_word = ''.join(reversed(word))\n",
    "        r_words.append(r_word)\n",
    "    result = ' '.join(r_words)\n",
    "    return result\n",
    "\n",
    "reversewordletters(\"Reverse this line\")\n",
    "        "
   ]
  },
  {
   "cell_type": "markdown",
   "metadata": {},
   "source": [
    "5. (Optional) Change text to piglatin... Google it! \n",
    "    - Handle errors accordingly"
   ]
  },
  {
   "cell_type": "code",
   "execution_count": 21,
   "metadata": {},
   "outputs": [],
   "source": [
    "def piglatin(txt):\n",
    "    def convert_word_to_pig_latin(word):\n",
    "        vowels = ['a', 'e', 'i', 'o', 'u']\n",
    "        \n",
    "        for i in range(len(word)):\n",
    "            if word[i].lower() in vowels:\n",
    "                if i == 0:\n",
    "                    return word + 'way'\n",
    "                else:\n",
    "                    return word[i:] + word[:i] + 'ay'\n",
    "        \n",
    "        return word\n",
    "\n",
    "    words = txt.split()\n",
    "    pig_latin_words = [convert_word_to_pig_latin(word) for word in words]\n",
    "    pig_latin_sentence = ' '.join(pig_latin_words)\n",
    "\n",
    "    return pig_latin_sentence"
   ]
  },
  {
   "cell_type": "code",
   "execution_count": 25,
   "metadata": {},
   "outputs": [
    {
     "data": {
      "text/plain": [
       "'elloHay orldway'"
      ]
     },
     "execution_count": 25,
     "metadata": {},
     "output_type": "execute_result"
    }
   ],
   "source": [
    "piglatin(\"Hello world\")"
   ]
  }
 ],
 "metadata": {
  "kernelspec": {
   "display_name": "Python 3 (ipykernel)",
   "language": "python",
   "name": "python3"
  },
  "language_info": {
   "codemirror_mode": {
    "name": "ipython",
    "version": 3
   },
   "file_extension": ".py",
   "mimetype": "text/x-python",
   "name": "python",
   "nbconvert_exporter": "python",
   "pygments_lexer": "ipython3",
   "version": "3.11.7"
  }
 },
 "nbformat": 4,
 "nbformat_minor": 4
}
