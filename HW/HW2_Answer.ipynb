{
 "cells": [
  {
   "cell_type": "code",
   "execution_count": 1,
   "metadata": {},
   "outputs": [
    {
     "data": {
      "text/plain": [
       "'d:\\\\2024_Summer\\\\Python_camp\\\\PythonCamp2024\\\\HW'"
      ]
     },
     "execution_count": 1,
     "metadata": {},
     "output_type": "execute_result"
    }
   ],
   "source": [
    "import os\n",
    "import requests\n",
    "from bs4 import BeautifulSoup\n",
    "import csv\n",
    "import time\n",
    "from selenium import webdriver\n",
    "from selenium.webdriver.chrome.options import Options\n",
    "from bs4 import BeautifulSoup as bs\n",
    "from selenium.webdriver.common.keys import Keys\n",
    "from selenium.webdriver.chrome.service import Service\n",
    "\n",
    "os.getcwd()\n"
   ]
  },
  {
   "cell_type": "code",
   "execution_count": 2,
   "metadata": {},
   "outputs": [],
   "source": [
    "os.chdir('D:/2024_Summer/Python_camp/PythonCamp2024/HW')\n"
   ]
  },
  {
   "cell_type": "code",
   "execution_count": 3,
   "metadata": {},
   "outputs": [],
   "source": [
    "# set up selenium stuff\n",
    "driver_path = Service('D:/2024_Summer/Python_camp/PythonCamp2024/Day04/Lecture/chromedriver.exe')\n",
    "driver = webdriver.Chrome(service = driver_path)\n",
    "\n",
    "\t# open webpage\n",
    "for page_num in range(1, 26):\n",
    "    if page_num == 1:\n",
    "        driver.get('https://www.presidency.ucsb.edu/documents/app-categories/presidential/spoken-addresses-and-remarks?items_per_page=60')\n",
    "    else:\n",
    "        driver.get(f'https://www.presidency.ucsb.edu/documents/app-categories/presidential/spoken-addresses-and-remarks?items_per_page=60&page={page_num-1}')\n",
    "\n",
    "    driver.execute_script(\"window.scrollTo(0, document.body.scrollHeight);\")\n",
    "    time.sleep(2)\n",
    "    html = driver.page_source\n",
    "    soup = BeautifulSoup(html, 'html.parser')"
   ]
  },
  {
   "cell_type": "code",
   "execution_count": 11,
   "metadata": {},
   "outputs": [
    {
     "name": "stdout",
     "output_type": "stream",
     "text": [
      "Working on 0 of 60:\n",
      "Error: unhashable type: 'dict'\n",
      "Working on 1 of 60:\n",
      "Error: unhashable type: 'dict'\n",
      "Working on 2 of 60:\n",
      "Error: unhashable type: 'dict'\n",
      "Working on 3 of 60:\n",
      "Error: unhashable type: 'dict'\n",
      "Working on 4 of 60:\n",
      "Error: unhashable type: 'dict'\n",
      "Working on 5 of 60:\n",
      "Error: unhashable type: 'dict'\n",
      "Working on 6 of 60:\n",
      "Error: unhashable type: 'dict'\n",
      "Working on 7 of 60:\n",
      "Error: unhashable type: 'dict'\n",
      "Working on 8 of 60:\n",
      "Error: unhashable type: 'dict'\n",
      "Working on 9 of 60:\n",
      "Error: unhashable type: 'dict'\n",
      "Working on 10 of 60:\n",
      "Error: unhashable type: 'dict'\n",
      "Working on 11 of 60:\n",
      "Error: unhashable type: 'dict'\n",
      "Working on 12 of 60:\n",
      "Error: unhashable type: 'dict'\n",
      "Working on 13 of 60:\n",
      "Error: unhashable type: 'dict'\n",
      "Working on 14 of 60:\n",
      "Error: unhashable type: 'dict'\n",
      "Working on 15 of 60:\n",
      "Error: unhashable type: 'dict'\n",
      "Working on 16 of 60:\n",
      "Error: unhashable type: 'dict'\n",
      "Working on 17 of 60:\n",
      "Error: unhashable type: 'dict'\n",
      "Working on 18 of 60:\n",
      "Error: unhashable type: 'dict'\n",
      "Working on 19 of 60:\n",
      "Error: unhashable type: 'dict'\n",
      "Working on 20 of 60:\n",
      "Error: unhashable type: 'dict'\n",
      "Working on 21 of 60:\n",
      "Error: unhashable type: 'dict'\n",
      "Working on 22 of 60:\n",
      "Error: unhashable type: 'dict'\n",
      "Working on 23 of 60:\n",
      "Error: unhashable type: 'dict'\n",
      "Working on 24 of 60:\n",
      "Error: unhashable type: 'dict'\n",
      "Working on 25 of 60:\n",
      "Error: unhashable type: 'dict'\n",
      "Working on 26 of 60:\n",
      "Error: unhashable type: 'dict'\n",
      "Working on 27 of 60:\n",
      "Error: unhashable type: 'dict'\n",
      "Working on 28 of 60:\n",
      "Error: unhashable type: 'dict'\n",
      "Working on 29 of 60:\n",
      "Error: unhashable type: 'dict'\n",
      "Working on 30 of 60:\n",
      "Error: unhashable type: 'dict'\n",
      "Working on 31 of 60:\n",
      "Error: unhashable type: 'dict'\n",
      "Working on 32 of 60:\n",
      "Error: unhashable type: 'dict'\n",
      "Working on 33 of 60:\n",
      "Error: unhashable type: 'dict'\n",
      "Working on 34 of 60:\n",
      "Error: unhashable type: 'dict'\n",
      "Working on 35 of 60:\n",
      "Error: unhashable type: 'dict'\n",
      "Working on 36 of 60:\n",
      "Error: unhashable type: 'dict'\n",
      "Working on 37 of 60:\n",
      "Error: unhashable type: 'dict'\n",
      "Working on 38 of 60:\n",
      "Error: unhashable type: 'dict'\n",
      "Working on 39 of 60:\n",
      "Error: unhashable type: 'dict'\n",
      "Working on 40 of 60:\n",
      "Error: unhashable type: 'dict'\n",
      "Working on 41 of 60:\n",
      "Error: unhashable type: 'dict'\n",
      "Working on 42 of 60:\n",
      "Error: unhashable type: 'dict'\n",
      "Working on 43 of 60:\n",
      "Error: unhashable type: 'dict'\n",
      "Working on 44 of 60:\n",
      "Error: unhashable type: 'dict'\n",
      "Working on 45 of 60:\n",
      "Error: unhashable type: 'dict'\n",
      "Working on 46 of 60:\n",
      "Error: unhashable type: 'dict'\n",
      "Working on 47 of 60:\n",
      "Error: unhashable type: 'dict'\n",
      "Working on 48 of 60:\n",
      "Error: unhashable type: 'dict'\n",
      "Working on 49 of 60:\n",
      "Error: unhashable type: 'dict'\n",
      "Working on 50 of 60:\n",
      "Error: unhashable type: 'dict'\n",
      "Working on 51 of 60:\n",
      "Error: unhashable type: 'dict'\n",
      "Working on 52 of 60:\n",
      "Error: unhashable type: 'dict'\n",
      "Working on 53 of 60:\n",
      "Error: unhashable type: 'dict'\n",
      "Working on 54 of 60:\n",
      "Error: unhashable type: 'dict'\n",
      "Working on 55 of 60:\n",
      "Error: unhashable type: 'dict'\n",
      "Working on 56 of 60:\n",
      "Error: unhashable type: 'dict'\n",
      "Working on 57 of 60:\n",
      "Error: unhashable type: 'dict'\n",
      "Working on 58 of 60:\n",
      "Error: unhashable type: 'dict'\n",
      "Working on 59 of 60:\n",
      "Error: unhashable type: 'dict'\n",
      "Working on 60 of 60:\n",
      "Error: list index out of range\n",
      "All done!\n"
     ]
    }
   ],
   "source": [
    "\n",
    "with open('biden_speech.csv', 'w') as f: # open new csv file\n",
    "    w = csv.DictWriter(f, fieldnames = ('Date', 'Title', 'Full Text', 'Citation')) # set colnames\n",
    "    w.writeheader() # write header\n",
    "\n",
    "    speeches = soup.find_all('div', class_=lambda x: x and 'views-row' in x) # get all speeches\n",
    "\n",
    "    for c in range(len(speeches)+1): # for each speech\n",
    "        print(\"Working on \" + str(c) + \" of \" + str(len(speeches)) + \":\")\n",
    "        try:\n",
    "            speech = {} # empty dict\n",
    "            speech['Date'] = speeches[c].find('span', class_='date-display-single')\n",
    "            speech['Title'] = speeches[c].find('div', {'class' : 'field-title'}).text # get title\n",
    "\n",
    "            interior = 'https://www.presidency.ucsb.edu/documents/' + speeches[c]['href', {'class' : 'field-title'}] # go to interior page\n",
    "            interior_page = urllib.request.urlopen(interior) # open interior\n",
    "            interior_soup = BeautifulSoup(interior_page.read()) # soup interior\n",
    "\n",
    "            speech['Full Text'] = ''.join(interior_soup.find('div', class_='field-docs-content').stripped_strings)\n",
    "            speech['Citation'] = interior_soup.find('div', class_='field-prez-document-citation')\n",
    "            w.writerow(speech) # write row\n",
    "        except Exception as e:\n",
    "            print(\"Error:\", e)\n",
    "            continue\n",
    "\n",
    "        time.sleep(3) # polite sleep\n",
    "\n",
    "print(\"All done!\")"
   ]
  },
  {
   "cell_type": "code",
   "execution_count": 7,
   "metadata": {},
   "outputs": [
    {
     "data": {
      "text/plain": [
       "<div class=\"views-row views-row-1 views-row-odd views-row-first\">\n",
       "<div about=\"/documents/remarks-senate-passage-the-american-rescue-plan-act-2021-and-exchange-with-reporters\" class=\"node node-documents node-teaser view-mode-teaser\" typeof=\"sioc:Item foaf:Document\">\n",
       "<div class=\"row\">\n",
       "<div class=\"col-sm-8\">\n",
       "<h4><span class=\"date-display-single\" content=\"2021-03-06T14:05:00+00:00\" datatype=\"xsd:dateTime\" property=\"dc:date\">March 06, 2021</span></h4>\n",
       "<div class=\"field-title\">\n",
       "<p><a href=\"/documents/remarks-senate-passage-the-american-rescue-plan-act-2021-and-exchange-with-reporters\">Remarks on Senate Passage of the American Rescue Plan Act of 2021 and an Exchange With Reporters</a></p> </div>\n",
       "</div>\n",
       "<div class=\"col-sm-4 margin-top\">\n",
       "<div class=\"label-above\">Related</div><p><a href=\"/people/president/joseph-r-biden\">Joseph R. Biden</a></p> </div>\n",
       "</div>\n",
       "</div>\n",
       "<!-- Needed to activate display suite support on forms -->\n",
       "</div>"
      ]
     },
     "execution_count": 7,
     "metadata": {},
     "output_type": "execute_result"
    }
   ],
   "source": [
    "speeches[0]"
   ]
  },
  {
   "cell_type": "code",
   "execution_count": 12,
   "metadata": {},
   "outputs": [
    {
     "name": "stdout",
     "output_type": "stream",
     "text": [
      "Speech: {}\n"
     ]
    }
   ],
   "source": [
    "print(\"Speech:\", speech)"
   ]
  }
 ],
 "metadata": {
  "kernelspec": {
   "display_name": "base",
   "language": "python",
   "name": "python3"
  },
  "language_info": {
   "codemirror_mode": {
    "name": "ipython",
    "version": 3
   },
   "file_extension": ".py",
   "mimetype": "text/x-python",
   "name": "python",
   "nbconvert_exporter": "python",
   "pygments_lexer": "ipython3",
   "version": "3.11.7"
  }
 },
 "nbformat": 4,
 "nbformat_minor": 2
}
