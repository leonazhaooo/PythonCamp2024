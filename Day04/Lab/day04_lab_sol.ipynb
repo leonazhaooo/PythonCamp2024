{
 "cells": [
  {
   "cell_type": "markdown",
   "metadata": {},
   "source": [
    "# Lab Solutions: Web Scraping + File I/O"
   ]
  },
  {
   "cell_type": "markdown",
   "metadata": {},
   "source": [
    "##### Instructions: \n",
    "\n",
    "1. Go to https://polisci.wustl.edu/people/88/all OR https://polisci.wustl.edu/people/list/88/all\n",
    "2. Go to the page for each of the professors.\n",
    "3. Create a `.csv`` file with the following information for each professor:\n",
    "\t- Name\n",
    "\t- Title\n",
    "\t- E-mail\n",
    "\t- Web page\n",
    "\t- Specialization  \n",
    "\t\t- If they do not have a specialization, you can leave it blank. \n",
    "\t\t- An example from Deniz's page: https://polisci.wustl.edu/people/deniz-aksoy\n",
    "\t\t- Professor Aksoy’s research is motivated by an interest in comparative political institutions and political violence. \n"
   ]
  },
  {
   "cell_type": "code",
   "execution_count": 3,
   "metadata": {},
   "outputs": [],
   "source": [
    "from bs4 import BeautifulSoup\n",
    "import urllib\n",
    "import csv\n",
    "import time"
   ]
  },
  {
   "cell_type": "code",
   "execution_count": 2,
   "metadata": {},
   "outputs": [],
   "source": [
    "from bs4 import BeautifulSoup\n",
    "import urllib\n",
    "import csv\n",
    "import time\n",
    "import os\n",
    "from selenium import webdriver\n",
    "from selenium.webdriver.chrome.options import Options\n",
    "from bs4 import BeautifulSoup as bs\n",
    "from selenium.webdriver.common.keys import Keys\n",
    "from selenium.webdriver.chrome.service import Service"
   ]
  },
  {
   "cell_type": "code",
   "execution_count": 4,
   "metadata": {},
   "outputs": [
    {
     "data": {
      "text/plain": [
       "'d:\\\\2024_Summer\\\\Python_camp\\\\PythonCamp2024\\\\Day04\\\\Lab'"
      ]
     },
     "execution_count": 4,
     "metadata": {},
     "output_type": "execute_result"
    }
   ],
   "source": [
    "os.getcwd()"
   ]
  },
  {
   "cell_type": "code",
   "execution_count": 5,
   "metadata": {},
   "outputs": [],
   "source": [
    "os.chdir('D:/2024_Summer/Python_camp/PythonCamp2024/Day04/Lab/')"
   ]
  },
  {
   "cell_type": "code",
   "execution_count": 6,
   "metadata": {},
   "outputs": [
    {
     "name": "stdout",
     "output_type": "stream",
     "text": [
      "Working on 0 of 39:\n",
      "Working on 1 of 39:\n",
      "Working on 2 of 39:\n",
      "Working on 3 of 39:\n",
      "Working on 4 of 39:\n",
      "Working on 5 of 39:\n",
      "Working on 6 of 39:\n",
      "Working on 7 of 39:\n",
      "Working on 8 of 39:\n",
      "Working on 9 of 39:\n",
      "Working on 10 of 39:\n",
      "Working on 11 of 39:\n",
      "Working on 12 of 39:\n",
      "Working on 13 of 39:\n",
      "Working on 14 of 39:\n",
      "Working on 15 of 39:\n",
      "Working on 16 of 39:\n",
      "Working on 17 of 39:\n",
      "Working on 18 of 39:\n",
      "Working on 19 of 39:\n",
      "Working on 20 of 39:\n",
      "Working on 21 of 39:\n",
      "Working on 22 of 39:\n",
      "Working on 23 of 39:\n",
      "Working on 24 of 39:\n",
      "Working on 25 of 39:\n",
      "Working on 26 of 39:\n",
      "Working on 27 of 39:\n",
      "Working on 28 of 39:\n",
      "Working on 29 of 39:\n",
      "Working on 30 of 39:\n",
      "Working on 31 of 39:\n",
      "Working on 32 of 39:\n",
      "Working on 33 of 39:\n",
      "Working on 34 of 39:\n",
      "Working on 35 of 39:\n",
      "Working on 36 of 39:\n",
      "Working on 37 of 39:\n",
      "Working on 38 of 39:\n",
      "Working on 39 of 39:\n",
      "All done!\n"
     ]
    }
   ],
   "source": [
    "with open('lab04.csv', 'w') as f: # open new csv file\n",
    "    w = csv.DictWriter(f, fieldnames = (\"name\", \"title\", \"email\", \"website\", \"specialization\")) # set colnames\n",
    "    w.writeheader() # write header\n",
    "\n",
    "\t# set up selenium stuff\n",
    "    driver_path = Service('D:/2024_Summer/Python_camp/PythonCamp2024/Day04/Lecture/chromedriver.exe')\n",
    "\n",
    "\t# open webpage\n",
    "    driver = webdriver.Chrome(service = driver_path)\n",
    "    driver.get('https://polisci.wustl.edu/people/88/all') # go to website\n",
    "    driver.execute_script(\"window.scrollTo(0, document.body.scrollHeight);\") # scroll to bottom\n",
    "    time.sleep(5) # pause to let selenium catch up and actually scroll\n",
    "    html = driver.page_source # get html\n",
    "    driver.close() # close selenium browser\n",
    "    soup = BeautifulSoup(html) # soup html\n",
    "\n",
    "    cards = soup.find_all('a', {'class' : 'card'}) # get all faculty\n",
    "\n",
    "    for c in range(len(cards)+1): # for each faculty card\n",
    "        print(\"Working on \" + str(c) + \" of \" + str(len(cards)) + \":\")\n",
    "        try:\n",
    "            fac = {} # empty dict\n",
    "            fac['name'] = ' '.join(cards[c].find('h3').text.split('\\xa0')) # get name, split on weird encoding and re-join\n",
    "            fac['title'] = cards[c].find('div', {'class' : 'dept'}).text # get title\n",
    "\n",
    "            interior = 'https://polisci.wustl.edu' + cards[c]['href'] # go to interior page\n",
    "            interior_page = urllib.request.urlopen(interior) # open interior\n",
    "            interior_soup = BeautifulSoup(interior_page.read()) # soup interior\n",
    "\n",
    "            fac['email'] = interior_soup.find('ul', {'class' : 'detail contact'}).find('a').text # get email\n",
    "            fac['website'] = interior_soup.find('ul', {'class' : 'links'}).find('a')['href'] # get personal website\n",
    "            fac['specialization'] = interior_soup.find('div', {'class' : 'post-excerpt'}).text # get specialization\n",
    "            w.writerow(fac) # write row\n",
    "        except:\n",
    "            continue # skip row on issue (e.g., Lee Epstien) # NOT the best way to deal with this. \n",
    "\n",
    "        time.sleep(3) # polite sleep\n",
    "\n",
    "print(\"All done!\")"
   ]
  },
  {
   "cell_type": "code",
   "execution_count": 8,
   "metadata": {},
   "outputs": [
    {
     "data": {
      "text/plain": [
       "<a class=\"card\" href=\"/people/deniz-aksoy\"><article class=\"faculty-post\"><div class=\"image\"><img alt=\"Headshot of Deniz Aksoy\" src=\"https://polisci.wustl.edu/files/polisci/styles/testimonial_desktop/public/People/Polisci_Aksoy_D_P1013892.jpg?itok=AvCgVb4x\"/><h3><div><span>Deniz</span> </div><div><span>Aksoy</span></div></h3></div><div class=\"dept\">Associate Professor of Political Science</div></article></a>"
      ]
     },
     "execution_count": 8,
     "metadata": {},
     "output_type": "execute_result"
    }
   ],
   "source": [
    "cards[0]"
   ]
  }
 ],
 "metadata": {
  "kernelspec": {
   "display_name": "Python 3 (ipykernel)",
   "language": "python",
   "name": "python3"
  },
  "language_info": {
   "codemirror_mode": {
    "name": "ipython",
    "version": 3
   },
   "file_extension": ".py",
   "mimetype": "text/x-python",
   "name": "python",
   "nbconvert_exporter": "python",
   "pygments_lexer": "ipython3",
   "version": "3.11.7"
  }
 },
 "nbformat": 4,
 "nbformat_minor": 4
}
